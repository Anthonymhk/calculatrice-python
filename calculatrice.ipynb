{
 "cells": [
  {
   "cell_type": "code",
   "execution_count": 9,
   "metadata": {},
   "outputs": [
    {
     "name": "stdout",
     "output_type": "stream",
     "text": [
      "Entrez le premier nombre : \n",
      "65\n",
      "Entrez le deuxieme nombre : \n",
      "4\n",
      "Choisir le ype de calcul : \n",
      "1 pour addition\n",
      "2 pour soustraction\n",
      "3 pour multiplication\n",
      "4 pour division\n",
      "2\n",
      "calcul 65.0  -  4.0\n",
      "le calcul est égale à :  61.0\n"
     ]
    }
   ],
   "source": [
    "print(\"Entrez le premier nombre : \") \n",
    "a = input()\n",
    "while a.isnumeric() != True:\n",
    "  print(\"Entrez le premier nombre : \") \n",
    "  a = input()\n",
    "  print(a.isnumeric())\n",
    "print(\"Entrez le deuxieme nombre : \")\n",
    "b = input()\n",
    "while b.isnumeric() != True:\n",
    "  print(\"Entrez le deuxieme nombre : \")\n",
    "  b = input()\n",
    "  print(b.isnumeric())\n",
    "\n",
    "\n",
    "a = float(a)\n",
    "b = float(b)\n",
    " \n"
   ]
  },
  {
   "cell_type": "code",
   "execution_count": null,
   "metadata": {},
   "outputs": [],
   "source": [
    "print(\"Choisir le ype de calcul : \")\n",
    "print(\"1 pour addition\")\n",
    "print(\"2 pour soustraction\")\n",
    "print(\"3 pour multiplication\")\n",
    "print(\"4 pour division\")\n",
    "choix = input()\n",
    "choix = int(choix) \n",
    "\n",
    "while choix > 4:\n",
    "  print(\"entrez un choix entre 1 à 4 : \")\n",
    "  choix = input()\n",
    "  \n",
    "  choix = int(choix)\n",
    "if choix == 1:\n",
    "  c = a+b\n",
    "  print(\"calcul\", a ,\" + \", b )\n",
    "if choix == 2:\n",
    "  c = a-b\n",
    "  print(\"calcul\", a ,\" - \", b )\n",
    "if choix == 3:\n",
    "  c = a*b\n",
    "  print(\"calcul\", a ,\" * \", b )\n",
    "if choix == 4:\n",
    "  c = a/b\n",
    "  print(\"calcul\", a ,\" / \", b )\n",
    "print(\"le calcul est égale à : \", c)\n"
   ]
  },
  {
   "cell_type": "code",
   "execution_count": null,
   "metadata": {},
   "outputs": [],
   "source": []
  }
 ],
 "metadata": {
  "kernelspec": {
   "display_name": "Python 3",
   "language": "python",
   "name": "python3"
  },
  "language_info": {
   "codemirror_mode": {
    "name": "ipython",
    "version": 3
   },
   "file_extension": ".py",
   "mimetype": "text/x-python",
   "name": "python",
   "nbconvert_exporter": "python",
   "pygments_lexer": "ipython3",
   "version": "3.8.5"
  }
 },
 "nbformat": 4,
 "nbformat_minor": 4
}
